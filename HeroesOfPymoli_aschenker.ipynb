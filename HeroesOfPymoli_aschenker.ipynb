{
 "cells": [
  {
   "cell_type": "markdown",
   "metadata": {},
   "source": [
    "### Heroes Of Pymoli Data Analysis\n",
    "* Of the 1163 active players, the vast majority are male (84%). There also exists, a smaller, but notable proportion of female players (14%).\n",
    "\n",
    "* Our peak age demographic falls between 20-24 (44.8%) with secondary groups falling between 15-19 (18.60%) and 25-29 (13.4%).  \n",
    "-----"
   ]
  },
  {
   "cell_type": "markdown",
   "metadata": {},
   "source": [
    "### Note\n",
    "* Instructions have been included for each segment. You do not have to follow them exactly, but they are included to help you think through the steps."
   ]
  },
  {
   "cell_type": "code",
   "execution_count": 11,
   "metadata": {},
   "outputs": [],
   "source": [
    "# Dependencies and Setup\n",
    "import pandas as pd\n",
    "import numpy as np\n",
    "\n",
    "# File to Load\n",
    "file_to_load = \"Resources/purchase_data.csv\"\n",
    "\n",
    "# Read Purchasing File and store into Pandas data frame\n",
    "purchase_data = pd.read_csv(file_to_load)"
   ]
  },
  {
   "cell_type": "markdown",
   "metadata": {},
   "source": [
    "## Player Count"
   ]
  },
  {
   "cell_type": "markdown",
   "metadata": {},
   "source": [
    "* Display the total number of players\n"
   ]
  },
  {
   "cell_type": "code",
   "execution_count": 2,
   "metadata": {},
   "outputs": [
    {
     "name": "stdout",
     "output_type": "stream",
     "text": [
      "Total number of players: 576\n"
     ]
    }
   ],
   "source": [
    "total = purchase_data[\"SN\"].unique()\n",
    "print(f'Total number of players: {len(purchase_data[\"SN\"].unique())}')"
   ]
  },
  {
   "cell_type": "markdown",
   "metadata": {},
   "source": [
    "## Purchasing Analysis (Total)"
   ]
  },
  {
   "cell_type": "markdown",
   "metadata": {},
   "source": [
    "* Run basic calculations to obtain number of unique items, average price, etc.\n",
    "\n",
    "\n",
    "* Create a summary data frame to hold the results\n",
    "\n",
    "\n",
    "* Optional: give the displayed data cleaner formatting\n",
    "\n",
    "\n",
    "* Display the summary data frame\n"
   ]
  },
  {
   "cell_type": "code",
   "execution_count": 3,
   "metadata": {
    "scrolled": true
   },
   "outputs": [
    {
     "data": {
      "text/html": [
       "<div>\n",
       "<style scoped>\n",
       "    .dataframe tbody tr th:only-of-type {\n",
       "        vertical-align: middle;\n",
       "    }\n",
       "\n",
       "    .dataframe tbody tr th {\n",
       "        vertical-align: top;\n",
       "    }\n",
       "\n",
       "    .dataframe thead th {\n",
       "        text-align: right;\n",
       "    }\n",
       "</style>\n",
       "<table border=\"1\" class=\"dataframe\">\n",
       "  <thead>\n",
       "    <tr style=\"text-align: right;\">\n",
       "      <th></th>\n",
       "      <th>Number of Unique Items</th>\n",
       "      <th>Average Purchase Price</th>\n",
       "      <th>Total Purchases</th>\n",
       "      <th>Total Revenue</th>\n",
       "    </tr>\n",
       "  </thead>\n",
       "  <tbody>\n",
       "    <tr>\n",
       "      <th>0</th>\n",
       "      <td>183</td>\n",
       "      <td>3.05</td>\n",
       "      <td>780</td>\n",
       "      <td>2379.77</td>\n",
       "    </tr>\n",
       "  </tbody>\n",
       "</table>\n",
       "</div>"
      ],
      "text/plain": [
       "   Number of Unique Items  Average Purchase Price  Total Purchases  \\\n",
       "0                     183                    3.05              780   \n",
       "\n",
       "   Total Revenue  \n",
       "0        2379.77  "
      ]
     },
     "execution_count": 3,
     "metadata": {},
     "output_type": "execute_result"
    }
   ],
   "source": [
    "#number of unique items\n",
    "unique_items = len(purchase_data[\"Item ID\"].unique())\n",
    "#average purchase price\n",
    "average = round(purchase_data[\"Price\"].mean(),2)\n",
    "#total number of purchases\n",
    "total_purchases = len(purchase_data[\"Purchase ID\"].unique())\n",
    "#total revenue \n",
    "total_revenue = purchase_data[\"Price\"].sum()\n",
    "\n",
    "summary_data = pd.DataFrame({\n",
    "    \"Number of Unique Items\":[unique_items],\n",
    "    \"Average Purchase Price\":[average],\n",
    "    \"Total Purchases\":[total_purchases],\n",
    "    \"Total Revenue\":[total_revenue]\n",
    "})\n",
    "summary_data"
   ]
  },
  {
   "cell_type": "markdown",
   "metadata": {},
   "source": [
    "## Gender Demographics"
   ]
  },
  {
   "cell_type": "markdown",
   "metadata": {},
   "source": [
    "* Percentage and Count of Male Players\n",
    "\n",
    "\n",
    "* Percentage and Count of Female Players\n",
    "\n",
    "\n",
    "* Percentage and Count of Other / Non-Disclosed\n",
    "\n",
    "\n"
   ]
  },
  {
   "cell_type": "code",
   "execution_count": 4,
   "metadata": {},
   "outputs": [
    {
     "data": {
      "text/html": [
       "<div>\n",
       "<style scoped>\n",
       "    .dataframe tbody tr th:only-of-type {\n",
       "        vertical-align: middle;\n",
       "    }\n",
       "\n",
       "    .dataframe tbody tr th {\n",
       "        vertical-align: top;\n",
       "    }\n",
       "\n",
       "    .dataframe thead th {\n",
       "        text-align: right;\n",
       "    }\n",
       "</style>\n",
       "<table border=\"1\" class=\"dataframe\">\n",
       "  <thead>\n",
       "    <tr style=\"text-align: right;\">\n",
       "      <th></th>\n",
       "      <th>Total Count</th>\n",
       "      <th>Percentage of Players</th>\n",
       "    </tr>\n",
       "  </thead>\n",
       "  <tbody>\n",
       "    <tr>\n",
       "      <th>Male</th>\n",
       "      <td>484</td>\n",
       "      <td>84.03</td>\n",
       "    </tr>\n",
       "    <tr>\n",
       "      <th>Female</th>\n",
       "      <td>81</td>\n",
       "      <td>14.06</td>\n",
       "    </tr>\n",
       "    <tr>\n",
       "      <th>Other / Non-Disclosed</th>\n",
       "      <td>11</td>\n",
       "      <td>1.91</td>\n",
       "    </tr>\n",
       "  </tbody>\n",
       "</table>\n",
       "</div>"
      ],
      "text/plain": [
       "                       Total Count  Percentage of Players\n",
       "Male                           484                  84.03\n",
       "Female                          81                  14.06\n",
       "Other / Non-Disclosed           11                   1.91"
      ]
     },
     "execution_count": 4,
     "metadata": {},
     "output_type": "execute_result"
    }
   ],
   "source": [
    "#identify number of unique genders \n",
    "all_gender = purchase_data.groupby(\"Gender\")[\"SN\"].unique()\n",
    "\n",
    "#count of male, female, and other players\n",
    "male = (len(all_gender[\"Male\"]))\n",
    "female = (len(all_gender[\"Female\"]))\n",
    "other = (len(all_gender[\"Other / Non-Disclosed\"]))\n",
    "\n",
    "#percentage male, female, and other players\n",
    "perc_male = round((male/len(total))*100,2)\n",
    "perc_female = round((female/len(total))*100,2)\n",
    "perc_other = round((other/len(total))*100,2)\n",
    "\n",
    "all_gender_df = pd.DataFrame({\n",
    "    \"Total Count\": {\"Male\":male,\"Female\":female,\"Other / Non-Disclosed\":other},\n",
    "    \"Percentage of Players\": {\"Male\":perc_male,\"Female\":perc_female,\"Other / Non-Disclosed\":perc_other}\n",
    "})\n",
    "all_gender_df.reindex([\"Male\",\"Female\",\"Other / Non-Disclosed\"])"
   ]
  },
  {
   "cell_type": "markdown",
   "metadata": {},
   "source": [
    "\n",
    "## Purchasing Analysis (Gender)"
   ]
  },
  {
   "cell_type": "markdown",
   "metadata": {},
   "source": [
    "* Run basic calculations to obtain purchase count, avg. purchase price, avg. purchase total per person etc. by gender\n",
    "\n",
    "\n",
    "\n",
    "\n",
    "* Create a summary data frame to hold the results\n",
    "\n",
    "\n",
    "* Optional: give the displayed data cleaner formatting\n",
    "\n",
    "\n",
    "* Display the summary data frame"
   ]
  },
  {
   "cell_type": "code",
   "execution_count": 5,
   "metadata": {},
   "outputs": [
    {
     "data": {
      "text/plain": [
       "<pandas.core.groupby.groupby.DataFrameGroupBy object at 0x000001C9EDFCC358>"
      ]
     },
     "execution_count": 5,
     "metadata": {},
     "output_type": "execute_result"
    }
   ],
   "source": [
    "#purchase count by gender\n",
    "male_purchase = purchase_data.loc[purchase_data[\"Gender\"] == \"Male\"]\n",
    "female_purchase = purchase_data.loc[purchase_data[\"Gender\"] == \"Female\"]\n",
    "other_purchase = purchase_data.loc[purchase_data[\"Gender\"] == \"Other / Non-Disclosed\"]\n",
    "\n",
    "#average purchase price by gender \n",
    "male_average = round(male_purchase[\"Price\"].mean(),2)\n",
    "female_average = round(female_purchase[\"Price\"].mean(),2)\n",
    "other_average = round(other_purchase[\"Price\"].mean(),2)\n",
    "\n",
    "#total purchase value\n",
    "male_total = male_purchase[\"Price\"].sum()\n",
    "female_total = female_purchase[\"Price\"].sum()\n",
    "other_total = other_purchase[\"Price\"].sum()\n",
    "\n",
    "#average total per person by gender \n",
    "#total purchase / total\n",
    "test = purchase_data.groupby(\"SN\")\n",
    "test\n",
    "\n",
    "#gender_summary = pd.DataFrame({\n",
    "#    \"Purchase Count\":{\"Male\":len(male_purchase),\"Female\":len(female_purchase),\"Other / Non-Disclosed\":len(other_purchase)},\n",
    "#    \"Average Purchase Price\":{\"Male\":male_average,\"Female\":female_average,\"Other / Non-Disclosed\":other_average},\n",
    "#    \"Total Purchase Value\":{\"Male\":male_total,\"Female\":female_total,\"Other / Non-Disclosed\":other_total},\n",
    "#    \"Avg Total Purchase Per Person\":{\"Male\":\"Figure\",\"Female\":\"This\",\"Other / Non-Disclosed\":\"Out\"}\n",
    "#})\n",
    "#gender_summary.reindex([\"Male\",\"Female\",\"Other / Non-Disclosed\"])"
   ]
  },
  {
   "cell_type": "markdown",
   "metadata": {},
   "source": [
    "## Age Demographics"
   ]
  },
  {
   "cell_type": "markdown",
   "metadata": {},
   "source": [
    "* Establish bins for ages\n",
    "\n",
    "\n",
    "* Categorize the existing players using the age bins. Hint: use pd.cut()\n",
    "\n",
    "\n",
    "* Calculate the numbers and percentages by age group\n",
    "\n",
    "\n",
    "* Create a summary data frame to hold the results\n",
    "\n",
    "\n",
    "* Optional: round the percentage column to two decimal points\n",
    "\n",
    "\n",
    "* Display Age Demographics Table\n"
   ]
  },
  {
   "cell_type": "code",
   "execution_count": 6,
   "metadata": {},
   "outputs": [
    {
     "data": {
      "text/html": [
       "<div>\n",
       "<style scoped>\n",
       "    .dataframe tbody tr th:only-of-type {\n",
       "        vertical-align: middle;\n",
       "    }\n",
       "\n",
       "    .dataframe tbody tr th {\n",
       "        vertical-align: top;\n",
       "    }\n",
       "\n",
       "    .dataframe thead th {\n",
       "        text-align: right;\n",
       "    }\n",
       "</style>\n",
       "<table border=\"1\" class=\"dataframe\">\n",
       "  <thead>\n",
       "    <tr style=\"text-align: right;\">\n",
       "      <th></th>\n",
       "      <th>Total Count</th>\n",
       "      <th>Percentage of Players</th>\n",
       "    </tr>\n",
       "  </thead>\n",
       "  <tbody>\n",
       "    <tr>\n",
       "      <th>&lt; 10</th>\n",
       "      <td>17</td>\n",
       "      <td>2.95</td>\n",
       "    </tr>\n",
       "    <tr>\n",
       "      <th>10-14</th>\n",
       "      <td>22</td>\n",
       "      <td>3.82</td>\n",
       "    </tr>\n",
       "    <tr>\n",
       "      <th>15-19</th>\n",
       "      <td>107</td>\n",
       "      <td>18.58</td>\n",
       "    </tr>\n",
       "    <tr>\n",
       "      <th>20-24</th>\n",
       "      <td>258</td>\n",
       "      <td>44.79</td>\n",
       "    </tr>\n",
       "    <tr>\n",
       "      <th>25-29</th>\n",
       "      <td>77</td>\n",
       "      <td>13.37</td>\n",
       "    </tr>\n",
       "    <tr>\n",
       "      <th>30-34</th>\n",
       "      <td>52</td>\n",
       "      <td>9.03</td>\n",
       "    </tr>\n",
       "    <tr>\n",
       "      <th>35-39</th>\n",
       "      <td>31</td>\n",
       "      <td>5.38</td>\n",
       "    </tr>\n",
       "    <tr>\n",
       "      <th>40+</th>\n",
       "      <td>12</td>\n",
       "      <td>2.08</td>\n",
       "    </tr>\n",
       "  </tbody>\n",
       "</table>\n",
       "</div>"
      ],
      "text/plain": [
       "       Total Count  Percentage of Players\n",
       "< 10            17                   2.95\n",
       "10-14           22                   3.82\n",
       "15-19          107                  18.58\n",
       "20-24          258                  44.79\n",
       "25-29           77                  13.37\n",
       "30-34           52                   9.03\n",
       "35-39           31                   5.38\n",
       "40+             12                   2.08"
      ]
     },
     "execution_count": 6,
     "metadata": {},
     "output_type": "execute_result"
    }
   ],
   "source": [
    "#find unique ages\n",
    "ages = purchase_data.groupby(\"SN\")[\"Age\"].unique()\n",
    "#establish bins for ages and categories for bins \n",
    "bins = (0,9,14,19,24,29,34,39,np.inf)\n",
    "names = [\"< 10\",\"10-14\",\"15-19\",\"20-24\",\"25-29\",\"30-34\",\"35-39\",\"40+\"]\n",
    "#categorize players using bins\n",
    "ages_df = pd.DataFrame(ages)\n",
    "ages_df[\"Age Range\"] = pd.cut(ages_df[\"Age\"],bins,labels=names)\n",
    "\n",
    "#create variables to calculate numbers and percentages by age group\n",
    "age_1 = len(ages_df.loc[ages_df[\"Age Range\"] == \"< 10\"])\n",
    "age_2 = len(ages_df.loc[ages_df[\"Age Range\"] == \"10-14\"])\n",
    "age_3 = len(ages_df.loc[ages_df[\"Age Range\"] == \"15-19\"])\n",
    "age_4 = len(ages_df.loc[ages_df[\"Age Range\"] == \"20-24\"])\n",
    "age_5 = len(ages_df.loc[ages_df[\"Age Range\"] == \"25-29\"])\n",
    "age_6 = len(ages_df.loc[ages_df[\"Age Range\"] == \"30-34\"])\n",
    "age_7 = len(ages_df.loc[ages_df[\"Age Range\"] == \"35-39\"])\n",
    "age_8 = len(ages_df.loc[ages_df[\"Age Range\"] == \"40+\"])\n",
    "total = len(total)\n",
    "\n",
    "#create and display summary dataframe\n",
    "age_summary = pd.DataFrame({\n",
    "    \"Total Count\":{names[0]:age_1,names[1]:age_2,names[2]:age_3,\n",
    "                   names[3]:age_4,names[4]:age_5,names[5]:age_6,\n",
    "                   names[6]:age_7,names[7]:age_8},\n",
    "    #calculate percentages by group\n",
    "    \"Percentage of Players\":{names[0]:round((age_1/total*100),2),names[1]:round((age_2/total*100),2),names[2]:round((age_3/total*100),2),\n",
    "                   names[3]:round((age_4/total*100),2),names[4]:round((age_5/total*100),2),names[5]:round((age_6/total*100),2),\n",
    "                   names[6]:round((age_7/total*100),2),names[7]:round((age_8/total*100),2)}\n",
    "})\n",
    "age_summary.reindex([\"< 10\",\"10-14\",\"15-19\",\"20-24\",\"25-29\",\"30-34\",\"35-39\",\"40+\"])"
   ]
  },
  {
   "cell_type": "markdown",
   "metadata": {},
   "source": [
    "## Purchasing Analysis (Age)"
   ]
  },
  {
   "cell_type": "markdown",
   "metadata": {},
   "source": [
    "* Bin the purchase_data data frame by age\n",
    "\n",
    "\n",
    "* Run basic calculations to obtain purchase count, avg. purchase price, avg. purchase total per person etc. in the table below\n",
    "\n",
    "\n",
    "* Create a summary data frame to hold the results\n",
    "\n",
    "\n",
    "* Optional: give the displayed data cleaner formatting\n",
    "\n",
    "\n",
    "* Display the summary data frame"
   ]
  },
  {
   "cell_type": "code",
   "execution_count": 7,
   "metadata": {
    "scrolled": true
   },
   "outputs": [
    {
     "data": {
      "text/html": [
       "<div>\n",
       "<style scoped>\n",
       "    .dataframe tbody tr th:only-of-type {\n",
       "        vertical-align: middle;\n",
       "    }\n",
       "\n",
       "    .dataframe tbody tr th {\n",
       "        vertical-align: top;\n",
       "    }\n",
       "\n",
       "    .dataframe thead th {\n",
       "        text-align: right;\n",
       "    }\n",
       "</style>\n",
       "<table border=\"1\" class=\"dataframe\">\n",
       "  <thead>\n",
       "    <tr style=\"text-align: right;\">\n",
       "      <th></th>\n",
       "      <th>Purchase Count</th>\n",
       "      <th>Average Purchase Price</th>\n",
       "      <th>Total Purchase Value</th>\n",
       "      <th>Avg Total Purchase Per Person</th>\n",
       "    </tr>\n",
       "  </thead>\n",
       "  <tbody>\n",
       "    <tr>\n",
       "      <th>&lt; 10</th>\n",
       "      <td>23.0</td>\n",
       "      <td>3.35</td>\n",
       "      <td>77.13</td>\n",
       "      <td>Figure</td>\n",
       "    </tr>\n",
       "    <tr>\n",
       "      <th>10-14</th>\n",
       "      <td>28.0</td>\n",
       "      <td>2.96</td>\n",
       "      <td>82.78</td>\n",
       "      <td>This</td>\n",
       "    </tr>\n",
       "    <tr>\n",
       "      <th>15-19</th>\n",
       "      <td>136.0</td>\n",
       "      <td>3.04</td>\n",
       "      <td>412.89</td>\n",
       "      <td>NaN</td>\n",
       "    </tr>\n",
       "    <tr>\n",
       "      <th>20-24</th>\n",
       "      <td>365.0</td>\n",
       "      <td>3.05</td>\n",
       "      <td>1114.06</td>\n",
       "      <td>NaN</td>\n",
       "    </tr>\n",
       "    <tr>\n",
       "      <th>25-29</th>\n",
       "      <td>101.0</td>\n",
       "      <td>2.90</td>\n",
       "      <td>293.00</td>\n",
       "      <td>NaN</td>\n",
       "    </tr>\n",
       "    <tr>\n",
       "      <th>30-34</th>\n",
       "      <td>73.0</td>\n",
       "      <td>2.93</td>\n",
       "      <td>214.00</td>\n",
       "      <td>NaN</td>\n",
       "    </tr>\n",
       "    <tr>\n",
       "      <th>35-39</th>\n",
       "      <td>41.0</td>\n",
       "      <td>3.60</td>\n",
       "      <td>147.67</td>\n",
       "      <td>NaN</td>\n",
       "    </tr>\n",
       "    <tr>\n",
       "      <th>40+</th>\n",
       "      <td>13.0</td>\n",
       "      <td>2.94</td>\n",
       "      <td>38.24</td>\n",
       "      <td>NaN</td>\n",
       "    </tr>\n",
       "  </tbody>\n",
       "</table>\n",
       "</div>"
      ],
      "text/plain": [
       "       Purchase Count  Average Purchase Price  Total Purchase Value  \\\n",
       "< 10             23.0                    3.35                 77.13   \n",
       "10-14            28.0                    2.96                 82.78   \n",
       "15-19           136.0                    3.04                412.89   \n",
       "20-24           365.0                    3.05               1114.06   \n",
       "25-29           101.0                    2.90                293.00   \n",
       "30-34            73.0                    2.93                214.00   \n",
       "35-39            41.0                    3.60                147.67   \n",
       "40+              13.0                    2.94                 38.24   \n",
       "\n",
       "      Avg Total Purchase Per Person  \n",
       "< 10                         Figure  \n",
       "10-14                          This  \n",
       "15-19                           NaN  \n",
       "20-24                           NaN  \n",
       "25-29                           NaN  \n",
       "30-34                           NaN  \n",
       "35-39                           NaN  \n",
       "40+                             NaN  "
      ]
     },
     "execution_count": 7,
     "metadata": {},
     "output_type": "execute_result"
    }
   ],
   "source": [
    "#establish bins for ages and categories for bins \n",
    "bins = (0,9,14,19,24,29,34,39,np.inf)\n",
    "names = [\"< 10\",\"10-14\",\"15-19\",\"20-24\",\"25-29\",\"30-34\",\"35-39\",\"40+\"]\n",
    "#categorize players using bins\n",
    "ages_purchases = pd.DataFrame(purchase_data)\n",
    "ages_purchases[\"Age Range\"] = pd.cut(purchase_data[\"Age\"],bins,labels=names)\n",
    "\n",
    "#group purchase data by age grop\n",
    "age_1_purchase = ages_purchases[ages_purchases[\"Age Range\"] == names[0]]\n",
    "age_2_purchase = ages_purchases[ages_purchases[\"Age Range\"] == names[1]]\n",
    "age_3_purchase = ages_purchases[ages_purchases[\"Age Range\"] == names[2]]\n",
    "age_4_purchase = ages_purchases[ages_purchases[\"Age Range\"] == names[3]]\n",
    "age_5_purchase = ages_purchases[ages_purchases[\"Age Range\"] == names[4]]\n",
    "age_6_purchase = ages_purchases[ages_purchases[\"Age Range\"] == names[5]]\n",
    "age_7_purchase = ages_purchases[ages_purchases[\"Age Range\"] == names[6]]\n",
    "age_8_purchase = ages_purchases[ages_purchases[\"Age Range\"] == names[7]]\n",
    "\n",
    "#average purchase price by age group \n",
    "age_1_average = round(age_1_purchase[\"Price\"].mean(),2)\n",
    "age_2_average = round(age_2_purchase[\"Price\"].mean(),2)\n",
    "age_3_average = round(age_3_purchase[\"Price\"].mean(),2)\n",
    "age_4_average = round(age_4_purchase[\"Price\"].mean(),2)\n",
    "age_5_average = round(age_5_purchase[\"Price\"].mean(),2)\n",
    "age_6_average = round(age_6_purchase[\"Price\"].mean(),2)\n",
    "age_7_average = round(age_7_purchase[\"Price\"].mean(),2)\n",
    "age_8_average = round(age_8_purchase[\"Price\"].mean(),2)\n",
    "\n",
    "#total purchase value by age group\n",
    "age_1_total = age_1_purchase[\"Price\"].sum()\n",
    "age_2_total = age_2_purchase[\"Price\"].sum()\n",
    "age_3_total = age_3_purchase[\"Price\"].sum()\n",
    "age_4_total = age_4_purchase[\"Price\"].sum()\n",
    "age_5_total = age_5_purchase[\"Price\"].sum()\n",
    "age_6_total = age_6_purchase[\"Price\"].sum()\n",
    "age_7_total = age_7_purchase[\"Price\"].sum()\n",
    "age_8_total = age_8_purchase[\"Price\"].sum()\n",
    "\n",
    "gender_summary = pd.DataFrame({\n",
    "    \"Purchase Count\":{names[0]:len(age_1_purchase),names[1]:len(age_2_purchase),names[2]:len(age_3_purchase),\n",
    "    names[3]:len(age_4_purchase),names[4]:len(age_5_purchase),names[5]:len(age_6_purchase),names[6]:len(age_7_purchase),names[7]:len(age_8_purchase)},\n",
    "    \"Average Purchase Price\":{names[0]:age_1_average, names[1]:age_2_average, names[2]:age_3_average,\n",
    "                              names[3]:age_4_average, names[4]:age_5_average, names[5]:age_6_average,\n",
    "                              names[6]:age_7_average, names[7]:age_8_average},\n",
    "    \"Total Purchase Value\":{names[0]:age_1_total, names[1]:age_2_total, names[2]:age_3_total,\n",
    "                            names[3]:age_4_total, names[4]:age_5_total, names[5]:age_6_total,\n",
    "                            names[6]:age_7_total, names[7]:age_8_total},\n",
    "    \"Avg Total Purchase Per Person\":{\"< 10\":\"Figure\",\"10-14\":\"This\",\"Other / Non-Disclosed\":\"Out\"}\n",
    "})\n",
    "gender_summary.reindex([\"< 10\",\"10-14\",\"15-19\",\"20-24\",\"25-29\",\"30-34\",\"35-39\",\"40+\"])"
   ]
  },
  {
   "cell_type": "markdown",
   "metadata": {},
   "source": [
    "## Top Spenders"
   ]
  },
  {
   "cell_type": "markdown",
   "metadata": {},
   "source": [
    "* Run basic calculations to obtain the results in the table below\n",
    "\n",
    "\n",
    "* Create a summary data frame to hold the results\n",
    "\n",
    "\n",
    "* Sort the total purchase value column in descending order\n",
    "\n",
    "\n",
    "* Optional: give the displayed data cleaner formatting\n",
    "\n",
    "\n",
    "* Display a preview of the summary data frame\n",
    "\n"
   ]
  },
  {
   "cell_type": "code",
   "execution_count": 31,
   "metadata": {},
   "outputs": [
    {
     "data": {
      "text/html": [
       "<div>\n",
       "<style scoped>\n",
       "    .dataframe tbody tr th:only-of-type {\n",
       "        vertical-align: middle;\n",
       "    }\n",
       "\n",
       "    .dataframe tbody tr th {\n",
       "        vertical-align: top;\n",
       "    }\n",
       "\n",
       "    .dataframe thead th {\n",
       "        text-align: right;\n",
       "    }\n",
       "</style>\n",
       "<table border=\"1\" class=\"dataframe\">\n",
       "  <thead>\n",
       "    <tr style=\"text-align: right;\">\n",
       "      <th></th>\n",
       "      <th>SN</th>\n",
       "      <th>Purchase Count</th>\n",
       "      <th>Purchase Price</th>\n",
       "      <th>Total Purchase Value</th>\n",
       "    </tr>\n",
       "  </thead>\n",
       "  <tbody>\n",
       "    <tr>\n",
       "      <th>74</th>\n",
       "      <td>Lisosia93</td>\n",
       "      <td>5</td>\n",
       "      <td>3.79</td>\n",
       "      <td>18.96</td>\n",
       "    </tr>\n",
       "    <tr>\n",
       "      <th>290</th>\n",
       "      <td>Idastidru52</td>\n",
       "      <td>4</td>\n",
       "      <td>3.86</td>\n",
       "      <td>15.45</td>\n",
       "    </tr>\n",
       "    <tr>\n",
       "      <th>222</th>\n",
       "      <td>Chamjask73</td>\n",
       "      <td>3</td>\n",
       "      <td>4.61</td>\n",
       "      <td>13.83</td>\n",
       "    </tr>\n",
       "    <tr>\n",
       "      <th>128</th>\n",
       "      <td>Iral74</td>\n",
       "      <td>4</td>\n",
       "      <td>3.40</td>\n",
       "      <td>13.62</td>\n",
       "    </tr>\n",
       "    <tr>\n",
       "      <th>148</th>\n",
       "      <td>Iskadarya95</td>\n",
       "      <td>3</td>\n",
       "      <td>4.37</td>\n",
       "      <td>13.10</td>\n",
       "    </tr>\n",
       "  </tbody>\n",
       "</table>\n",
       "</div>"
      ],
      "text/plain": [
       "              SN  Purchase Count  Purchase Price  Total Purchase Value\n",
       "74     Lisosia93               5            3.79                 18.96\n",
       "290  Idastidru52               4            3.86                 15.45\n",
       "222   Chamjask73               3            4.61                 13.83\n",
       "128       Iral74               4            3.40                 13.62\n",
       "148  Iskadarya95               3            4.37                 13.10"
      ]
     },
     "execution_count": 31,
     "metadata": {},
     "output_type": "execute_result"
    }
   ],
   "source": [
    "#get data grouped by users \n",
    "grouped_users = purchase_data.groupby('SN')\n",
    "\n",
    "#create new dataframe\n",
    "top_spenders = pd.DataFrame(purchase_data[[\"SN\"]])\n",
    "\n",
    "#find purchase count \n",
    "top_spenders[\"Purchase Count\"] = grouped_users[\"Item ID\"].transform('count')\n",
    "\n",
    "#find average purchase price\n",
    "top_spenders[\"Purchase Price\"] = round(grouped_users[\"Price\"].transform('mean'),2)\n",
    "\n",
    "#find total purchase value\n",
    "top_spenders[\"Total Purchase Value\"] = grouped_users[\"Price\"].transform(sum)\n",
    "\n",
    "#find the top 5 spenders\n",
    "top_spenders.drop_duplicates(subset=\"SN\").sort_values(\"Total Purchase Value\",ascending=False).head(5)"
   ]
  },
  {
   "cell_type": "markdown",
   "metadata": {},
   "source": [
    "## Most Popular Items"
   ]
  },
  {
   "cell_type": "markdown",
   "metadata": {},
   "source": [
    "* Retrieve the Item ID, Item Name, and Item Price columns\n",
    "\n",
    "\n",
    "* Group by Item ID and Item Name. Perform calculations to obtain purchase count, item price, and total purchase value\n",
    "\n",
    "\n",
    "* Create a summary data frame to hold the results\n",
    "\n",
    "\n",
    "* Sort the purchase count column in descending order\n",
    "\n",
    "\n",
    "* Optional: give the displayed data cleaner formatting\n",
    "\n",
    "\n",
    "* Display a preview of the summary data frame\n",
    "\n"
   ]
  },
  {
   "cell_type": "code",
   "execution_count": null,
   "metadata": {},
   "outputs": [],
   "source": [
    "items = "
   ]
  },
  {
   "cell_type": "markdown",
   "metadata": {},
   "source": [
    "## Most Profitable Items"
   ]
  },
  {
   "cell_type": "markdown",
   "metadata": {},
   "source": [
    "* Sort the above table by total purchase value in descending order\n",
    "\n",
    "\n",
    "* Optional: give the displayed data cleaner formatting\n",
    "\n",
    "\n",
    "* Display a preview of the data frame\n",
    "\n"
   ]
  },
  {
   "cell_type": "code",
   "execution_count": null,
   "metadata": {
    "scrolled": true
   },
   "outputs": [],
   "source": []
  }
 ],
 "metadata": {
  "anaconda-cloud": {},
  "kernel_info": {
   "name": "python3"
  },
  "kernelspec": {
   "display_name": "Python 3",
   "language": "python",
   "name": "python3"
  },
  "language_info": {
   "codemirror_mode": {
    "name": "ipython",
    "version": 3
   },
   "file_extension": ".py",
   "mimetype": "text/x-python",
   "name": "python",
   "nbconvert_exporter": "python",
   "pygments_lexer": "ipython3",
   "version": "3.7.1"
  },
  "nteract": {
   "version": "0.2.0"
  }
 },
 "nbformat": 4,
 "nbformat_minor": 2
}
